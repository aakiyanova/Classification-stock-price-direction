{
 "cells": [
  {
   "cell_type": "markdown",
   "id": "cutting-charleston",
   "metadata": {},
   "source": [
    "#### SVC on news and news sentiment"
   ]
  },
  {
   "cell_type": "code",
   "execution_count": 1,
   "id": "preceding-straight",
   "metadata": {},
   "outputs": [],
   "source": [
    "# imports\n",
    "import pandas as pd\n",
    "import numpy as np\n",
    "import matplotlib.pyplot as plt\n",
    "from textblob import TextBlob\n",
    "from sklearn.model_selection import train_test_split, GridSearchCV\n",
    "from sklearn.pipeline import make_pipeline\n",
    "from sklearn.preprocessing import StandardScaler\n",
    "from sklearn.linear_model import LogisticRegression\n",
    "from sklearn.feature_extraction.text import CountVectorizer, TfidfVectorizer\n",
    "from sklearn.naive_bayes import MultinomialNB\n",
    "from sklearn.ensemble import RandomForestClassifier \n",
    "from sklearn.metrics import balanced_accuracy_score, f1_score, recall_score, confusion_matrix, roc_auc_score, precision_score\n",
    "from sklearn.svm import SVC\n",
    "from nltk.stem import WordNetLemmatizer\n",
    "from sklearn.metrics import plot_confusion_matrix\n",
    "\n",
    "import tensorflow as tf\n",
    "from keras.layers import Dropout\n",
    "from tensorflow.keras.models import Sequential\n",
    "from tensorflow.keras.layers import Input, Dense, BatchNormalization\n",
    "from keras.callbacks import EarlyStopping"
   ]
  },
  {
   "cell_type": "code",
   "execution_count": 3,
   "id": "verbal-channels",
   "metadata": {},
   "outputs": [],
   "source": [
    "apple = pd.read_csv('data/AppleNewsStock.csv')"
   ]
  },
  {
   "cell_type": "code",
   "execution_count": 10,
   "id": "christian-kitty",
   "metadata": {},
   "outputs": [],
   "source": [
    "# drop rows with missing news column\n",
    "apple.dropna(axis = 0, inplace = True)"
   ]
  },
  {
   "cell_type": "code",
   "execution_count": 11,
   "id": "productive-concern",
   "metadata": {},
   "outputs": [],
   "source": [
    "apple.columns = apple.columns.str.lower()"
   ]
  },
  {
   "cell_type": "code",
   "execution_count": 12,
   "id": "competitive-island",
   "metadata": {},
   "outputs": [],
   "source": [
    "# engineer a variable up or down \n",
    "apple['up_or_down'] = apple['adj close'] - apple['open']"
   ]
  },
  {
   "cell_type": "code",
   "execution_count": 13,
   "id": "patent-system",
   "metadata": {},
   "outputs": [],
   "source": [
    "# create a function for up or down column\n",
    "def up_or_down(number):\n",
    "    if number < 0:\n",
    "        return 'down'\n",
    "    if number > 0:\n",
    "        return 'up'   "
   ]
  },
  {
   "cell_type": "code",
   "execution_count": 14,
   "id": "japanese-keyboard",
   "metadata": {},
   "outputs": [],
   "source": [
    "# apply function\n",
    "apple['up_or_down'] = apple['up_or_down'].apply(up_or_down)"
   ]
  },
  {
   "cell_type": "code",
   "execution_count": 15,
   "id": "enclosed-literature",
   "metadata": {},
   "outputs": [],
   "source": [
    "# set date as index column\n",
    "apple.set_index(['date'], inplace = True)"
   ]
  },
  {
   "cell_type": "markdown",
   "id": "banned-guyana",
   "metadata": {},
   "source": [
    "#### Countvectorizing news articles"
   ]
  },
  {
   "cell_type": "code",
   "execution_count": 24,
   "id": "social-copyright",
   "metadata": {},
   "outputs": [],
   "source": [
    "cvect_apple = CountVectorizer(stop_words = 'english', ngram_range = (3,3), max_features = 500)"
   ]
  },
  {
   "cell_type": "code",
   "execution_count": 25,
   "id": "modular-clearing",
   "metadata": {},
   "outputs": [],
   "source": [
    "news_vect_apple = cvect_apple.fit_transform(apple['news'])"
   ]
  },
  {
   "cell_type": "code",
   "execution_count": 26,
   "id": "spanish-adolescent",
   "metadata": {},
   "outputs": [],
   "source": [
    "apple_vect = pd.DataFrame(news_vect_apple.toarray(), columns = cvect_apple.get_feature_names())"
   ]
  },
  {
   "cell_type": "markdown",
   "id": "specific-truth",
   "metadata": {},
   "source": [
    "#### Sentiment Analysis: Apple"
   ]
  },
  {
   "cell_type": "code",
   "execution_count": 32,
   "id": "synthetic-diagnosis",
   "metadata": {},
   "outputs": [],
   "source": [
    "sentiment_objects_apple = [TextBlob(i) for i in apple['news']]"
   ]
  },
  {
   "cell_type": "code",
   "execution_count": 33,
   "id": "addressed-concert",
   "metadata": {},
   "outputs": [],
   "source": [
    "sentiment_values_apple = [[i.sentiment.polarity, str(i)] for i in sentiment_objects_apple]"
   ]
  },
  {
   "cell_type": "code",
   "execution_count": 34,
   "id": "nearby-facial",
   "metadata": {},
   "outputs": [],
   "source": [
    "sentiment_df_apple = pd.DataFrame(sentiment_values_apple, columns = ['polarity', 'news'])"
   ]
  },
  {
   "cell_type": "code",
   "execution_count": 37,
   "id": "consistent-county",
   "metadata": {},
   "outputs": [],
   "source": [
    "sentiment_df_apple = sentiment_df_apple[sentiment_df_apple.polarity != 0]"
   ]
  },
  {
   "cell_type": "code",
   "execution_count": 38,
   "id": "generic-factory",
   "metadata": {},
   "outputs": [
    {
     "data": {
      "text/plain": [
       "polarity    0.111278\n",
       "dtype: float64"
      ]
     },
     "execution_count": 38,
     "metadata": {},
     "output_type": "execute_result"
    }
   ],
   "source": [
    "sentiment_df_apple.mean()"
   ]
  },
  {
   "cell_type": "code",
   "execution_count": 40,
   "id": "addressed-genome",
   "metadata": {},
   "outputs": [],
   "source": [
    "# concat polarity df with apple df on 'news'\n",
    "apple_final = pd.merge(apple, sentiment_df_apple, on='news')"
   ]
  },
  {
   "cell_type": "code",
   "execution_count": 41,
   "id": "under-swaziland",
   "metadata": {},
   "outputs": [],
   "source": [
    "# dropping rows with missing values\n",
    "apple_final.dropna(axis = 0, inplace = True)"
   ]
  },
  {
   "cell_type": "code",
   "execution_count": 42,
   "id": "proprietary-violence",
   "metadata": {},
   "outputs": [],
   "source": [
    "# save to csv \n",
    "apple_final.to_csv('data/apple_clean.csv')"
   ]
  },
  {
   "cell_type": "code",
   "execution_count": 43,
   "id": "ideal-feelings",
   "metadata": {},
   "outputs": [],
   "source": [
    "# add polarity to countvectorized dataframe\n",
    "apple_vect['polarity'] = apple_final['polarity']"
   ]
  },
  {
   "cell_type": "code",
   "execution_count": 44,
   "id": "rotary-trunk",
   "metadata": {},
   "outputs": [],
   "source": [
    "# add y value to countvectorized dataframe\n",
    "apple_vect['up_or_down'] = apple_final['up_or_down']"
   ]
  },
  {
   "cell_type": "code",
   "execution_count": 45,
   "id": "electrical-throw",
   "metadata": {},
   "outputs": [],
   "source": [
    "apple_vect.dropna(axis = 0, inplace = True)"
   ]
  },
  {
   "cell_type": "code",
   "execution_count": 46,
   "id": "classical-church",
   "metadata": {},
   "outputs": [],
   "source": [
    "apple_vect.to_csv('data/apple_vect_clean.csv')"
   ]
  },
  {
   "cell_type": "markdown",
   "id": "serial-sunrise",
   "metadata": {},
   "source": [
    "#### Null Model"
   ]
  },
  {
   "cell_type": "code",
   "execution_count": 47,
   "id": "orange-youth",
   "metadata": {},
   "outputs": [
    {
     "data": {
      "text/plain": [
       "up      0.505837\n",
       "down    0.494163\n",
       "Name: up_or_down, dtype: float64"
      ]
     },
     "execution_count": 47,
     "metadata": {},
     "output_type": "execute_result"
    }
   ],
   "source": [
    "apple_final['up_or_down'].value_counts(normalize=True) # null model is just a little over 50% accurate"
   ]
  },
  {
   "cell_type": "markdown",
   "id": "rising-boating",
   "metadata": {},
   "source": [
    "### Train Test Split"
   ]
  },
  {
   "cell_type": "code",
   "execution_count": 48,
   "id": "vulnerable-greene",
   "metadata": {},
   "outputs": [],
   "source": [
    "X = apple_vect.drop(columns = 'up_or_down')\n",
    "y = apple_vect['up_or_down']"
   ]
  },
  {
   "cell_type": "code",
   "execution_count": 49,
   "id": "continuing-flower",
   "metadata": {},
   "outputs": [],
   "source": [
    "X_train, X_test, y_train, y_test = train_test_split(X, y, random_state = 22)"
   ]
  },
  {
   "cell_type": "markdown",
   "id": "excellent-poster",
   "metadata": {},
   "source": [
    "#### 5. SVC using news sentiment"
   ]
  },
  {
   "cell_type": "code",
   "execution_count": 69,
   "id": "above-kitchen",
   "metadata": {},
   "outputs": [],
   "source": [
    "pipe_svc = make_pipeline(StandardScaler(with_mean = False), SVC())"
   ]
  },
  {
   "cell_type": "code",
   "execution_count": 70,
   "id": "first-passage",
   "metadata": {},
   "outputs": [
    {
     "data": {
      "text/plain": [
       "Pipeline(steps=[('standardscaler', StandardScaler(with_mean=False)),\n",
       "                ('svc', SVC())])"
      ]
     },
     "execution_count": 70,
     "metadata": {},
     "output_type": "execute_result"
    }
   ],
   "source": [
    "pipe_svc.fit(X_train, y_train)"
   ]
  },
  {
   "cell_type": "code",
   "execution_count": 71,
   "id": "skilled-carbon",
   "metadata": {},
   "outputs": [
    {
     "data": {
      "text/plain": [
       "0.7381776239907728"
      ]
     },
     "execution_count": 71,
     "metadata": {},
     "output_type": "execute_result"
    }
   ],
   "source": [
    "pipe_svc.score(X_train, y_train)"
   ]
  },
  {
   "cell_type": "code",
   "execution_count": 72,
   "id": "bibliographic-infection",
   "metadata": {},
   "outputs": [
    {
     "data": {
      "text/plain": [
       "0.5094991364421416"
      ]
     },
     "execution_count": 72,
     "metadata": {},
     "output_type": "execute_result"
    }
   ],
   "source": [
    "pipe_svc.score(X_test, y_test)"
   ]
  },
  {
   "cell_type": "code",
   "execution_count": 73,
   "id": "mature-bubble",
   "metadata": {},
   "outputs": [
    {
     "data": {
      "image/png": "[encoded data removed]",
      "text/plain": [
       "<Figure size 432x288 with 2 Axes>"
      ]
     },
     "metadata": {
      "needs_background": "light"
     },
     "output_type": "display_data"
    }
   ],
   "source": [
    "# plot confusion matrix \n",
    "plot_confusion_matrix(pipe_svc, X_test, y_test);"
   ]
  }
 ],
 "metadata": {
  "kernelspec": {
   "display_name": "Python 3",
   "language": "python",
   "name": "python3"
  },
  "language_info": {
   "codemirror_mode": {
    "name": "ipython",
    "version": 3
   },
   "file_extension": ".py",
   "mimetype": "text/x-python",
   "name": "python",
   "nbconvert_exporter": "python",
   "pygments_lexer": "ipython3",
   "version": "3.8.5"
  }
 },
 "nbformat": 4,
 "nbformat_minor": 5
}
