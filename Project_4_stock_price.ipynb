{
 "cells": [
  {
   "cell_type": "markdown",
   "id": "noted-candidate",
   "metadata": {},
   "source": [
    "# Project 4: Hackathon"
   ]
  },
  {
   "cell_type": "markdown",
   "id": "ranging-laugh",
   "metadata": {},
   "source": [
    "### Apple Stock Data: 2006 - 2016\n",
    "\n",
    "Data Sources: https://www.kaggle.com/BidecInnovations/stock-price-and-news-realted-to-it/code"
   ]
  },
  {
   "cell_type": "markdown",
   "id": "molecular-complex",
   "metadata": {},
   "source": [
    "### Problem Statement: \n",
    "Determine whether a stock price will close up or down based on the news released about the stock during a trading day."
   ]
  },
  {
   "cell_type": "markdown",
   "id": "passive-final",
   "metadata": {},
   "source": [
    "### Executive Summary\n",
    "\n",
    "This Analysis examined dataset on Apple stock price between December 2006 and November 2016 to test whether published news impacts stock price direction. I used 5 models to test my hypothesis with the best using Linear Regression with 53% accuracy - slightly higher than the Null Model with 50.5% accuracy. As a conclusion: news as a stand-alone is not a great predictor of a stock price direction with a caveat that the news sample is relevant to the stock. "
   ]
  },
  {
   "cell_type": "code",
   "execution_count": 2,
   "id": "tender-attention",
   "metadata": {},
   "outputs": [],
   "source": [
    "# imports\n",
    "import pandas as pd\n",
    "import numpy as np\n",
    "import matplotlib.pyplot as plt\n",
    "from textblob import TextBlob\n",
    "from sklearn.model_selection import train_test_split, GridSearchCV\n",
    "from sklearn.pipeline import make_pipeline\n",
    "from sklearn.preprocessing import StandardScaler\n",
    "from sklearn.linear_model import LogisticRegression\n",
    "from sklearn.feature_extraction.text import CountVectorizer, TfidfVectorizer\n",
    "from sklearn.naive_bayes import MultinomialNB\n",
    "from sklearn.ensemble import RandomForestClassifier \n",
    "from sklearn.metrics import balanced_accuracy_score, f1_score, recall_score, confusion_matrix, roc_auc_score, precision_score\n",
    "from sklearn.svm import SVC\n",
    "from nltk.stem import WordNetLemmatizer\n",
    "from sklearn.metrics import plot_confusion_matrix\n",
    "\n",
    "import tensorflow as tf\n",
    "from keras.layers import Dropout\n",
    "from tensorflow.keras.models import Sequential\n",
    "from tensorflow.keras.layers import Input, Dense, BatchNormalization\n",
    "from keras.callbacks import EarlyStopping"
   ]
  },
  {
   "cell_type": "code",
   "execution_count": 3,
   "id": "suspended-voltage",
   "metadata": {},
   "outputs": [],
   "source": [
    "apple = pd.read_csv('data/AppleNewsStock.csv')"
   ]
  },
  {
   "cell_type": "code",
   "execution_count": 4,
   "id": "cardiovascular-number",
   "metadata": {},
   "outputs": [
    {
     "data": {
      "text/html": [
       "<div>\n",
       "<style scoped>\n",
       "    .dataframe tbody tr th:only-of-type {\n",
       "        vertical-align: middle;\n",
       "    }\n",
       "\n",
       "    .dataframe tbody tr th {\n",
       "        vertical-align: top;\n",
       "    }\n",
       "\n",
       "    .dataframe thead th {\n",
       "        text-align: right;\n",
       "    }\n",
       "</style>\n",
       "<table border=\"1\" class=\"dataframe\">\n",
       "  <thead>\n",
       "    <tr style=\"text-align: right;\">\n",
       "      <th></th>\n",
       "      <th>Date</th>\n",
       "      <th>Open</th>\n",
       "      <th>High</th>\n",
       "      <th>Low</th>\n",
       "      <th>Close</th>\n",
       "      <th>Adj Close</th>\n",
       "      <th>Volume</th>\n",
       "      <th>News</th>\n",
       "    </tr>\n",
       "  </thead>\n",
       "  <tbody>\n",
       "    <tr>\n",
       "      <th>0</th>\n",
       "      <td>2006-12-01</td>\n",
       "      <td>13.114285</td>\n",
       "      <td>13.190000</td>\n",
       "      <td>12.871428</td>\n",
       "      <td>91.320000</td>\n",
       "      <td>13.045714</td>\n",
       "      <td>198769900</td>\n",
       "      <td>WHAT'S ON TONIGHT : 8 P.M. (TLC) ASHLEY JUDD A...</td>\n",
       "    </tr>\n",
       "    <tr>\n",
       "      <th>1</th>\n",
       "      <td>2006-12-04</td>\n",
       "      <td>13.125714</td>\n",
       "      <td>13.150000</td>\n",
       "      <td>12.928572</td>\n",
       "      <td>91.120003</td>\n",
       "      <td>13.017143</td>\n",
       "      <td>177384200</td>\n",
       "      <td>More on Housing Prices : The broadest governme...</td>\n",
       "    </tr>\n",
       "    <tr>\n",
       "      <th>2</th>\n",
       "      <td>2006-12-05</td>\n",
       "      <td>13.092857</td>\n",
       "      <td>13.190000</td>\n",
       "      <td>12.981428</td>\n",
       "      <td>91.269997</td>\n",
       "      <td>13.038571</td>\n",
       "      <td>165709600</td>\n",
       "      <td>NaN</td>\n",
       "    </tr>\n",
       "    <tr>\n",
       "      <th>3</th>\n",
       "      <td>2006-12-06</td>\n",
       "      <td>12.948571</td>\n",
       "      <td>13.055715</td>\n",
       "      <td>12.810000</td>\n",
       "      <td>89.830002</td>\n",
       "      <td>12.832857</td>\n",
       "      <td>159546100</td>\n",
       "      <td>Honoring R.W. Apple in Words and Food : About ...</td>\n",
       "    </tr>\n",
       "    <tr>\n",
       "      <th>4</th>\n",
       "      <td>2006-12-07</td>\n",
       "      <td>12.861428</td>\n",
       "      <td>12.928572</td>\n",
       "      <td>12.414286</td>\n",
       "      <td>87.040001</td>\n",
       "      <td>12.434286</td>\n",
       "      <td>251206900</td>\n",
       "      <td>Homebuilders, and Worries Over Jobs, Lead a De...</td>\n",
       "    </tr>\n",
       "  </tbody>\n",
       "</table>\n",
       "</div>"
      ],
      "text/plain": [
       "         Date       Open       High        Low      Close  Adj Close  \\\n",
       "0  2006-12-01  13.114285  13.190000  12.871428  91.320000  13.045714   \n",
       "1  2006-12-04  13.125714  13.150000  12.928572  91.120003  13.017143   \n",
       "2  2006-12-05  13.092857  13.190000  12.981428  91.269997  13.038571   \n",
       "3  2006-12-06  12.948571  13.055715  12.810000  89.830002  12.832857   \n",
       "4  2006-12-07  12.861428  12.928572  12.414286  87.040001  12.434286   \n",
       "\n",
       "      Volume                                               News  \n",
       "0  198769900  WHAT'S ON TONIGHT : 8 P.M. (TLC) ASHLEY JUDD A...  \n",
       "1  177384200  More on Housing Prices : The broadest governme...  \n",
       "2  165709600                                                NaN  \n",
       "3  159546100  Honoring R.W. Apple in Words and Food : About ...  \n",
       "4  251206900  Homebuilders, and Worries Over Jobs, Lead a De...  "
      ]
     },
     "execution_count": 4,
     "metadata": {},
     "output_type": "execute_result"
    }
   ],
   "source": [
    "apple.head()"
   ]
  },
  {
   "cell_type": "code",
   "execution_count": 5,
   "id": "attractive-charles",
   "metadata": {},
   "outputs": [
    {
     "data": {
      "text/plain": [
       "'2016-11-30'"
      ]
     },
     "execution_count": 5,
     "metadata": {},
     "output_type": "execute_result"
    }
   ],
   "source": [
    "apple['Date'].max() # the data ends in November 2016"
   ]
  },
  {
   "cell_type": "code",
   "execution_count": 6,
   "id": "loving-sudan",
   "metadata": {},
   "outputs": [
    {
     "data": {
      "text/plain": [
       "'2006-12-01'"
      ]
     },
     "execution_count": 6,
     "metadata": {},
     "output_type": "execute_result"
    }
   ],
   "source": [
    "apple['Date'].min() # starts in December 2006"
   ]
  },
  {
   "cell_type": "code",
   "execution_count": 7,
   "id": "romantic-speaker",
   "metadata": {},
   "outputs": [
    {
     "name": "stdout",
     "output_type": "stream",
     "text": [
      "<class 'pandas.core.frame.DataFrame'>\n",
      "RangeIndex: 2517 entries, 0 to 2516\n",
      "Data columns (total 8 columns):\n",
      " #   Column     Non-Null Count  Dtype  \n",
      "---  ------     --------------  -----  \n",
      " 0   Date       2517 non-null   object \n",
      " 1   Open       2517 non-null   float64\n",
      " 2   High       2517 non-null   float64\n",
      " 3   Low        2517 non-null   float64\n",
      " 4   Close      2517 non-null   float64\n",
      " 5   Adj Close  2517 non-null   float64\n",
      " 6   Volume     2517 non-null   int64  \n",
      " 7   News       2323 non-null   object \n",
      "dtypes: float64(5), int64(1), object(2)\n",
      "memory usage: 157.4+ KB\n"
     ]
    }
   ],
   "source": [
    "apple.info()"
   ]
  },
  {
   "cell_type": "code",
   "execution_count": 8,
   "id": "altered-marking",
   "metadata": {},
   "outputs": [
    {
     "data": {
      "text/plain": [
       "Date           0\n",
       "Open           0\n",
       "High           0\n",
       "Low            0\n",
       "Close          0\n",
       "Adj Close      0\n",
       "Volume         0\n",
       "News         194\n",
       "dtype: int64"
      ]
     },
     "execution_count": 8,
     "metadata": {},
     "output_type": "execute_result"
    }
   ],
   "source": [
    "apple.isnull().sum()"
   ]
  },
  {
   "cell_type": "code",
   "execution_count": 9,
   "id": "backed-broadway",
   "metadata": {},
   "outputs": [
    {
     "data": {
      "text/html": [
       "<div>\n",
       "<style scoped>\n",
       "    .dataframe tbody tr th:only-of-type {\n",
       "        vertical-align: middle;\n",
       "    }\n",
       "\n",
       "    .dataframe tbody tr th {\n",
       "        vertical-align: top;\n",
       "    }\n",
       "\n",
       "    .dataframe thead th {\n",
       "        text-align: right;\n",
       "    }\n",
       "</style>\n",
       "<table border=\"1\" class=\"dataframe\">\n",
       "  <thead>\n",
       "    <tr style=\"text-align: right;\">\n",
       "      <th></th>\n",
       "      <th>Open</th>\n",
       "      <th>High</th>\n",
       "      <th>Low</th>\n",
       "      <th>Close</th>\n",
       "      <th>Adj Close</th>\n",
       "      <th>Volume</th>\n",
       "    </tr>\n",
       "  </thead>\n",
       "  <tbody>\n",
       "    <tr>\n",
       "      <th>count</th>\n",
       "      <td>2517.000000</td>\n",
       "      <td>2517.000000</td>\n",
       "      <td>2517.000000</td>\n",
       "      <td>2517.000000</td>\n",
       "      <td>2517.000000</td>\n",
       "      <td>2.517000e+03</td>\n",
       "    </tr>\n",
       "    <tr>\n",
       "      <th>mean</th>\n",
       "      <td>60.719774</td>\n",
       "      <td>61.302098</td>\n",
       "      <td>60.065740</td>\n",
       "      <td>260.556404</td>\n",
       "      <td>60.695236</td>\n",
       "      <td>1.345639e+08</td>\n",
       "    </tr>\n",
       "    <tr>\n",
       "      <th>std</th>\n",
       "      <td>36.218609</td>\n",
       "      <td>36.482248</td>\n",
       "      <td>35.930683</td>\n",
       "      <td>175.576176</td>\n",
       "      <td>36.204898</td>\n",
       "      <td>9.904975e+07</td>\n",
       "    </tr>\n",
       "    <tr>\n",
       "      <th>min</th>\n",
       "      <td>11.164286</td>\n",
       "      <td>11.607142</td>\n",
       "      <td>10.967143</td>\n",
       "      <td>78.199997</td>\n",
       "      <td>11.171429</td>\n",
       "      <td>1.147590e+07</td>\n",
       "    </tr>\n",
       "    <tr>\n",
       "      <th>25%</th>\n",
       "      <td>25.577143</td>\n",
       "      <td>25.857143</td>\n",
       "      <td>25.049999</td>\n",
       "      <td>112.879997</td>\n",
       "      <td>25.540001</td>\n",
       "      <td>6.363350e+07</td>\n",
       "    </tr>\n",
       "    <tr>\n",
       "      <th>50%</th>\n",
       "      <td>57.142857</td>\n",
       "      <td>57.655716</td>\n",
       "      <td>56.480000</td>\n",
       "      <td>179.300003</td>\n",
       "      <td>57.104286</td>\n",
       "      <td>1.077881e+08</td>\n",
       "    </tr>\n",
       "    <tr>\n",
       "      <th>75%</th>\n",
       "      <td>93.790001</td>\n",
       "      <td>94.639999</td>\n",
       "      <td>92.680000</td>\n",
       "      <td>400.289978</td>\n",
       "      <td>93.699997</td>\n",
       "      <td>1.774899e+08</td>\n",
       "    </tr>\n",
       "    <tr>\n",
       "      <th>max</th>\n",
       "      <td>134.460007</td>\n",
       "      <td>134.539993</td>\n",
       "      <td>131.399994</td>\n",
       "      <td>702.100037</td>\n",
       "      <td>133.000000</td>\n",
       "      <td>8.432424e+08</td>\n",
       "    </tr>\n",
       "  </tbody>\n",
       "</table>\n",
       "</div>"
      ],
      "text/plain": [
       "              Open         High          Low        Close    Adj Close  \\\n",
       "count  2517.000000  2517.000000  2517.000000  2517.000000  2517.000000   \n",
       "mean     60.719774    61.302098    60.065740   260.556404    60.695236   \n",
       "std      36.218609    36.482248    35.930683   175.576176    36.204898   \n",
       "min      11.164286    11.607142    10.967143    78.199997    11.171429   \n",
       "25%      25.577143    25.857143    25.049999   112.879997    25.540001   \n",
       "50%      57.142857    57.655716    56.480000   179.300003    57.104286   \n",
       "75%      93.790001    94.639999    92.680000   400.289978    93.699997   \n",
       "max     134.460007   134.539993   131.399994   702.100037   133.000000   \n",
       "\n",
       "             Volume  \n",
       "count  2.517000e+03  \n",
       "mean   1.345639e+08  \n",
       "std    9.904975e+07  \n",
       "min    1.147590e+07  \n",
       "25%    6.363350e+07  \n",
       "50%    1.077881e+08  \n",
       "75%    1.774899e+08  \n",
       "max    8.432424e+08  "
      ]
     },
     "execution_count": 9,
     "metadata": {},
     "output_type": "execute_result"
    }
   ],
   "source": [
    "apple.describe()"
   ]
  },
  {
   "cell_type": "code",
   "execution_count": 10,
   "id": "surprising-stanford",
   "metadata": {},
   "outputs": [],
   "source": [
    "# drop rows with missing news column\n",
    "apple.dropna(axis = 0, inplace = True)"
   ]
  },
  {
   "cell_type": "code",
   "execution_count": 11,
   "id": "confidential-bunch",
   "metadata": {},
   "outputs": [],
   "source": [
    "apple.columns = apple.columns.str.lower()"
   ]
  },
  {
   "cell_type": "code",
   "execution_count": 12,
   "id": "public-serial",
   "metadata": {},
   "outputs": [],
   "source": [
    "# engineer a variable up or down \n",
    "apple['up_or_down'] = apple['adj close'] - apple['open']"
   ]
  },
  {
   "cell_type": "code",
   "execution_count": 13,
   "id": "starting-basement",
   "metadata": {},
   "outputs": [],
   "source": [
    "# create a function for up or down column\n",
    "def up_or_down(number):\n",
    "    if number < 0:\n",
    "        return 'down'\n",
    "    if number > 0:\n",
    "        return 'up'   "
   ]
  },
  {
   "cell_type": "code",
   "execution_count": 14,
   "id": "fewer-enclosure",
   "metadata": {},
   "outputs": [],
   "source": [
    "# apply function\n",
    "apple['up_or_down'] = apple['up_or_down'].apply(up_or_down)"
   ]
  },
  {
   "cell_type": "code",
   "execution_count": 15,
   "id": "silver-wright",
   "metadata": {},
   "outputs": [],
   "source": [
    "# set date as index column\n",
    "apple.set_index(['date'], inplace = True)"
   ]
  },
  {
   "cell_type": "code",
   "execution_count": 16,
   "id": "eastern-grenada",
   "metadata": {},
   "outputs": [
    {
     "data": {
      "text/html": [
       "<div>\n",
       "<style scoped>\n",
       "    .dataframe tbody tr th:only-of-type {\n",
       "        vertical-align: middle;\n",
       "    }\n",
       "\n",
       "    .dataframe tbody tr th {\n",
       "        vertical-align: top;\n",
       "    }\n",
       "\n",
       "    .dataframe thead th {\n",
       "        text-align: right;\n",
       "    }\n",
       "</style>\n",
       "<table border=\"1\" class=\"dataframe\">\n",
       "  <thead>\n",
       "    <tr style=\"text-align: right;\">\n",
       "      <th></th>\n",
       "      <th>open</th>\n",
       "      <th>high</th>\n",
       "      <th>low</th>\n",
       "      <th>close</th>\n",
       "      <th>adj close</th>\n",
       "      <th>volume</th>\n",
       "      <th>news</th>\n",
       "      <th>up_or_down</th>\n",
       "    </tr>\n",
       "    <tr>\n",
       "      <th>date</th>\n",
       "      <th></th>\n",
       "      <th></th>\n",
       "      <th></th>\n",
       "      <th></th>\n",
       "      <th></th>\n",
       "      <th></th>\n",
       "      <th></th>\n",
       "      <th></th>\n",
       "    </tr>\n",
       "  </thead>\n",
       "  <tbody>\n",
       "    <tr>\n",
       "      <th>2006-12-01</th>\n",
       "      <td>13.114285</td>\n",
       "      <td>13.19</td>\n",
       "      <td>12.871428</td>\n",
       "      <td>91.320000</td>\n",
       "      <td>13.045714</td>\n",
       "      <td>198769900</td>\n",
       "      <td>WHAT'S ON TONIGHT : 8 P.M. (TLC) ASHLEY JUDD A...</td>\n",
       "      <td>down</td>\n",
       "    </tr>\n",
       "    <tr>\n",
       "      <th>2006-12-04</th>\n",
       "      <td>13.125714</td>\n",
       "      <td>13.15</td>\n",
       "      <td>12.928572</td>\n",
       "      <td>91.120003</td>\n",
       "      <td>13.017143</td>\n",
       "      <td>177384200</td>\n",
       "      <td>More on Housing Prices : The broadest governme...</td>\n",
       "      <td>down</td>\n",
       "    </tr>\n",
       "  </tbody>\n",
       "</table>\n",
       "</div>"
      ],
      "text/plain": [
       "                 open   high        low      close  adj close     volume  \\\n",
       "date                                                                       \n",
       "2006-12-01  13.114285  13.19  12.871428  91.320000  13.045714  198769900   \n",
       "2006-12-04  13.125714  13.15  12.928572  91.120003  13.017143  177384200   \n",
       "\n",
       "                                                         news up_or_down  \n",
       "date                                                                      \n",
       "2006-12-01  WHAT'S ON TONIGHT : 8 P.M. (TLC) ASHLEY JUDD A...       down  \n",
       "2006-12-04  More on Housing Prices : The broadest governme...       down  "
      ]
     },
     "execution_count": 16,
     "metadata": {},
     "output_type": "execute_result"
    }
   ],
   "source": [
    "apple.head(2)"
   ]
  },
  {
   "cell_type": "code",
   "execution_count": 17,
   "id": "laughing-mobile",
   "metadata": {},
   "outputs": [
    {
     "data": {
      "image/png": "[encoded data removed]",
      "text/plain": [
       "<Figure size 1008x576 with 1 Axes>"
      ]
     },
     "metadata": {
      "needs_background": "light"
     },
     "output_type": "display_data"
    }
   ],
   "source": [
    "apple['adj close'].plot(figsize = (14, 8), title = 'Adjusted Closing Price of Apple, 2006 - 2016')\n",
    "plt.xlabel('Date')\n",
    "plt.legend();"
   ]
  },
  {
   "cell_type": "code",
   "execution_count": 18,
   "id": "metallic-ferry",
   "metadata": {},
   "outputs": [
    {
     "data": {
      "text/plain": [
       "133.0"
      ]
     },
     "execution_count": 18,
     "metadata": {},
     "output_type": "execute_result"
    }
   ],
   "source": [
    "apple['adj close'].max() # the stock grew 12x times in ten years"
   ]
  },
  {
   "cell_type": "code",
   "execution_count": 19,
   "id": "certified-edition",
   "metadata": {},
   "outputs": [
    {
     "data": {
      "text/plain": [
       "11.171429"
      ]
     },
     "execution_count": 19,
     "metadata": {},
     "output_type": "execute_result"
    }
   ],
   "source": [
    "apple['adj close'].min()"
   ]
  },
  {
   "cell_type": "code",
   "execution_count": 20,
   "id": "short-prerequisite",
   "metadata": {},
   "outputs": [
    {
     "data": {
      "image/png": "[encoded data removed]",
      "text/plain": [
       "<Figure size 1008x576 with 1 Axes>"
      ]
     },
     "metadata": {
      "needs_background": "light"
     },
     "output_type": "display_data"
    }
   ],
   "source": [
    "apple['open'].plot(figsize = (14, 8), title = 'Opening Price of Apple, 2006 - 2016')\n",
    "plt.xlabel('Date')\n",
    "plt.legend();"
   ]
  },
  {
   "cell_type": "code",
   "execution_count": 21,
   "id": "equivalent-representation",
   "metadata": {},
   "outputs": [
    {
     "data": {
      "image/png": "[encoded data removed]",
      "text/plain": [
       "<Figure size 1008x576 with 1 Axes>"
      ]
     },
     "metadata": {
      "needs_background": "light"
     },
     "output_type": "display_data"
    }
   ],
   "source": [
    "apple['volume'].plot(figsize = (14, 8), title = 'Volume Traded of Apple, 2006 - 2016')\n",
    "plt.xlabel('Date')\n",
    "plt.legend();"
   ]
  },
  {
   "cell_type": "code",
   "execution_count": 22,
   "id": "fancy-seeker",
   "metadata": {},
   "outputs": [
    {
     "data": {
      "text/plain": [
       "11475900"
      ]
     },
     "execution_count": 22,
     "metadata": {},
     "output_type": "execute_result"
    }
   ],
   "source": [
    "apple['volume'].min() # currently 110m shares a day, "
   ]
  },
  {
   "cell_type": "code",
   "execution_count": 23,
   "id": "homeless-stuart",
   "metadata": {},
   "outputs": [
    {
     "data": {
      "text/plain": [
       "843242400"
      ]
     },
     "execution_count": 23,
     "metadata": {},
     "output_type": "execute_result"
    }
   ],
   "source": [
    "apple['volume'].max() # traded in higher volumes when was cheaper 834m shares / daily max"
   ]
  },
  {
   "cell_type": "markdown",
   "id": "cleared-dodge",
   "metadata": {},
   "source": [
    "### Countvectorizing news articles"
   ]
  },
  {
   "cell_type": "code",
   "execution_count": 24,
   "id": "conservative-probability",
   "metadata": {},
   "outputs": [],
   "source": [
    "cvect_apple = CountVectorizer(stop_words = 'english', ngram_range = (3,3), max_features = 500)"
   ]
  },
  {
   "cell_type": "code",
   "execution_count": 25,
   "id": "finite-wheat",
   "metadata": {},
   "outputs": [],
   "source": [
    "news_vect_apple = cvect_apple.fit_transform(apple['news'])"
   ]
  },
  {
   "cell_type": "code",
   "execution_count": 26,
   "id": "willing-camcorder",
   "metadata": {},
   "outputs": [],
   "source": [
    "apple_vect = pd.DataFrame(news_vect_apple.toarray(), columns = cvect_apple.get_feature_names())"
   ]
  },
  {
   "cell_type": "code",
   "execution_count": 27,
   "id": "devoted-event",
   "metadata": {},
   "outputs": [
    {
     "data": {
      "text/plain": [
       "new york times                  354\n",
       "new york city                   207\n",
       "need know start                 153\n",
       "know start day                  142\n",
       "briefing need know              124\n",
       "paid notice deaths              101\n",
       "editors new york                 96\n",
       "reporters editors new            96\n",
       "technology reporters editors     94\n",
       "york times scour                 93\n",
       "times scour web                  93\n",
       "web important peculiar           92\n",
       "scour web important              90\n",
       "important peculiar items         84\n",
       "spare times children             77\n",
       "corrections appearing print      67\n",
       "today small business             65\n",
       "inside times international       63\n",
       "big apple circus                 62\n",
       "daily report apple               53\n",
       "dtype: int64"
      ]
     },
     "execution_count": 27,
     "metadata": {},
     "output_type": "execute_result"
    }
   ],
   "source": [
    "apple_vect.sum().sort_values(ascending = False).head(20)"
   ]
  },
  {
   "cell_type": "code",
   "execution_count": 30,
   "id": "cathedral-portugal",
   "metadata": {},
   "outputs": [
    {
     "data": {
      "image/png": "[encoded data removed]",
      "text/plain": [
       "<Figure size 576x432 with 1 Axes>"
      ]
     },
     "metadata": {
      "needs_background": "light"
     },
     "output_type": "display_data"
    }
   ],
   "source": [
    "plt.figure(figsize = (8, 6))\n",
    "apple_vect.sum().sort_values(ascending = False).head(15).plot(kind = 'bar')\n",
    "plt.title('Top 15 phrases in news about Apple', fontsize = 15)\n",
    "plt.xticks(ha='right', rotation=40, fontsize=12)\n",
    "plt.yticks(fontsize = 10);"
   ]
  },
  {
   "cell_type": "code",
   "execution_count": 31,
   "id": "still-combining",
   "metadata": {},
   "outputs": [
    {
     "data": {
      "text/plain": [
       "[\"Honoring R.W. Apple in Words and Food : About 1,000 of R.W. Apple’s admirers turned out for a funny, sad and immensely caloric tribute to The New York Times writer at the Kennedy Center memorial on Tuesday.Bono's Elevation Seeks Time's Parenting Titles, Report Says : On the heels of news that the auction for Time Inc.'s Time4Media publications had stalled, the New York Post reported that Elevation Partners, the private equity group founded by philanthropist and sometime rocker Bono, has entered the fray. The b...Defense Nominee Gains Approval of Senate Panel : Robert M. Gates said the recommendations to be made public this morning by the Iraq Study Group would be important but not “the last word.”\"]"
      ]
     },
     "execution_count": 31,
     "metadata": {},
     "output_type": "execute_result"
    }
   ],
   "source": [
    "# news mentioning apple\n",
    "[i for i in apple['news'] if 'apple' in i.lower()][:1]"
   ]
  },
  {
   "cell_type": "markdown",
   "id": "impressive-clerk",
   "metadata": {},
   "source": [
    "### Sentiment Analysis: Apple"
   ]
  },
  {
   "cell_type": "code",
   "execution_count": 32,
   "id": "limiting-caution",
   "metadata": {},
   "outputs": [],
   "source": [
    "sentiment_objects_apple = [TextBlob(i) for i in apple['news']]"
   ]
  },
  {
   "cell_type": "code",
   "execution_count": 33,
   "id": "ultimate-carbon",
   "metadata": {},
   "outputs": [],
   "source": [
    "sentiment_values_apple = [[i.sentiment.polarity, str(i)] for i in sentiment_objects_apple]"
   ]
  },
  {
   "cell_type": "code",
   "execution_count": 34,
   "id": "liberal-shoulder",
   "metadata": {},
   "outputs": [],
   "source": [
    "sentiment_df_apple = pd.DataFrame(sentiment_values_apple, columns = ['polarity', 'news'])"
   ]
  },
  {
   "cell_type": "code",
   "execution_count": 35,
   "id": "trained-nation",
   "metadata": {},
   "outputs": [
    {
     "data": {
      "text/html": [
       "<div>\n",
       "<style scoped>\n",
       "    .dataframe tbody tr th:only-of-type {\n",
       "        vertical-align: middle;\n",
       "    }\n",
       "\n",
       "    .dataframe tbody tr th {\n",
       "        vertical-align: top;\n",
       "    }\n",
       "\n",
       "    .dataframe thead th {\n",
       "        text-align: right;\n",
       "    }\n",
       "</style>\n",
       "<table border=\"1\" class=\"dataframe\">\n",
       "  <thead>\n",
       "    <tr style=\"text-align: right;\">\n",
       "      <th></th>\n",
       "      <th>polarity</th>\n",
       "      <th>news</th>\n",
       "    </tr>\n",
       "  </thead>\n",
       "  <tbody>\n",
       "    <tr>\n",
       "      <th>679</th>\n",
       "      <td>0.544444</td>\n",
       "      <td>Sweet Potato, Pumpkin and Apple Puree : This m...</td>\n",
       "    </tr>\n",
       "    <tr>\n",
       "      <th>1080</th>\n",
       "      <td>0.433333</td>\n",
       "      <td>What We’re Reading : A collection of links by ...</td>\n",
       "    </tr>\n",
       "    <tr>\n",
       "      <th>93</th>\n",
       "      <td>0.429545</td>\n",
       "      <td>A Media PC That Can Stand Up Next to the Telev...</td>\n",
       "    </tr>\n",
       "    <tr>\n",
       "      <th>953</th>\n",
       "      <td>0.419481</td>\n",
       "      <td>Verizon Deal May Expose iPhone Flaws : The pro...</td>\n",
       "    </tr>\n",
       "    <tr>\n",
       "      <th>2119</th>\n",
       "      <td>0.400000</td>\n",
       "      <td>Breaking Up With Apple Music : If you have rea...</td>\n",
       "    </tr>\n",
       "    <tr>\n",
       "      <th>1633</th>\n",
       "      <td>0.398312</td>\n",
       "      <td>Korean Court Rejects Samsung Lawsuit Against A...</td>\n",
       "    </tr>\n",
       "    <tr>\n",
       "      <th>916</th>\n",
       "      <td>0.385845</td>\n",
       "      <td>Video: How to Make the Perfect Pie Crust : Wee...</td>\n",
       "    </tr>\n",
       "    <tr>\n",
       "      <th>1088</th>\n",
       "      <td>0.383690</td>\n",
       "      <td>Will Apple Remain a Hedge Fund Favorite? : Man...</td>\n",
       "    </tr>\n",
       "    <tr>\n",
       "      <th>1136</th>\n",
       "      <td>0.370707</td>\n",
       "      <td>What Are the Best Apples for Apple Pie? : In a...</td>\n",
       "    </tr>\n",
       "    <tr>\n",
       "      <th>1146</th>\n",
       "      <td>0.366855</td>\n",
       "      <td>A Hard Cider From an Heirloom Apple : The Newt...</td>\n",
       "    </tr>\n",
       "  </tbody>\n",
       "</table>\n",
       "</div>"
      ],
      "text/plain": [
       "      polarity                                               news\n",
       "679   0.544444  Sweet Potato, Pumpkin and Apple Puree : This m...\n",
       "1080  0.433333  What We’re Reading : A collection of links by ...\n",
       "93    0.429545  A Media PC That Can Stand Up Next to the Telev...\n",
       "953   0.419481  Verizon Deal May Expose iPhone Flaws : The pro...\n",
       "2119  0.400000  Breaking Up With Apple Music : If you have rea...\n",
       "1633  0.398312  Korean Court Rejects Samsung Lawsuit Against A...\n",
       "916   0.385845  Video: How to Make the Perfect Pie Crust : Wee...\n",
       "1088  0.383690  Will Apple Remain a Hedge Fund Favorite? : Man...\n",
       "1136  0.370707  What Are the Best Apples for Apple Pie? : In a...\n",
       "1146  0.366855  A Hard Cider From an Heirloom Apple : The Newt..."
      ]
     },
     "execution_count": 35,
     "metadata": {},
     "output_type": "execute_result"
    }
   ],
   "source": [
    "sentiment_df_apple.sort_values(by = 'polarity', ascending = False).head(10)"
   ]
  },
  {
   "cell_type": "code",
   "execution_count": 36,
   "id": "diverse-words",
   "metadata": {},
   "outputs": [
    {
     "data": {
      "text/html": [
       "<div>\n",
       "<style scoped>\n",
       "    .dataframe tbody tr th:only-of-type {\n",
       "        vertical-align: middle;\n",
       "    }\n",
       "\n",
       "    .dataframe tbody tr th {\n",
       "        vertical-align: top;\n",
       "    }\n",
       "\n",
       "    .dataframe thead th {\n",
       "        text-align: right;\n",
       "    }\n",
       "</style>\n",
       "<table border=\"1\" class=\"dataframe\">\n",
       "  <thead>\n",
       "    <tr style=\"text-align: right;\">\n",
       "      <th></th>\n",
       "      <th>polarity</th>\n",
       "      <th>news</th>\n",
       "    </tr>\n",
       "  </thead>\n",
       "  <tbody>\n",
       "    <tr>\n",
       "      <th>1224</th>\n",
       "      <td>-0.287879</td>\n",
       "      <td>Congress Extends Road Funds by 90 Days : Unabl...</td>\n",
       "    </tr>\n",
       "    <tr>\n",
       "      <th>823</th>\n",
       "      <td>-0.225000</td>\n",
       "      <td>Germany Asks Apple About iPhone&amp;#8217;s Data-G...</td>\n",
       "    </tr>\n",
       "    <tr>\n",
       "      <th>1737</th>\n",
       "      <td>-0.220833</td>\n",
       "      <td>China Pulls Cisco Into Dispute on Cyberspying ...</td>\n",
       "    </tr>\n",
       "    <tr>\n",
       "      <th>611</th>\n",
       "      <td>-0.200000</td>\n",
       "      <td>Walt Disney Says Profit Fell 26% in Quarter : ...</td>\n",
       "    </tr>\n",
       "    <tr>\n",
       "      <th>1865</th>\n",
       "      <td>-0.175000</td>\n",
       "      <td>Adam's Apples Scene: Apple Tree : A Model T Co...</td>\n",
       "    </tr>\n",
       "    <tr>\n",
       "      <th>1955</th>\n",
       "      <td>-0.175000</td>\n",
       "      <td>Market Mostly Higher as Company Earnings Repor...</td>\n",
       "    </tr>\n",
       "    <tr>\n",
       "      <th>1203</th>\n",
       "      <td>-0.152540</td>\n",
       "      <td>Photos Vulnerable on Apple Devices : 8:19 p.m....</td>\n",
       "    </tr>\n",
       "    <tr>\n",
       "      <th>2210</th>\n",
       "      <td>-0.150974</td>\n",
       "      <td>Apple Case Underscores Pitfalls of Doing Busin...</td>\n",
       "    </tr>\n",
       "    <tr>\n",
       "      <th>782</th>\n",
       "      <td>-0.150000</td>\n",
       "      <td>Apple Buys Intrinsity, a Maker of Fast Chips :...</td>\n",
       "    </tr>\n",
       "    <tr>\n",
       "      <th>164</th>\n",
       "      <td>-0.141477</td>\n",
       "      <td>Already, Apple Sells Refurbished iPhones : Con...</td>\n",
       "    </tr>\n",
       "  </tbody>\n",
       "</table>\n",
       "</div>"
      ],
      "text/plain": [
       "      polarity                                               news\n",
       "1224 -0.287879  Congress Extends Road Funds by 90 Days : Unabl...\n",
       "823  -0.225000  Germany Asks Apple About iPhone&#8217;s Data-G...\n",
       "1737 -0.220833  China Pulls Cisco Into Dispute on Cyberspying ...\n",
       "611  -0.200000  Walt Disney Says Profit Fell 26% in Quarter : ...\n",
       "1865 -0.175000  Adam's Apples Scene: Apple Tree : A Model T Co...\n",
       "1955 -0.175000  Market Mostly Higher as Company Earnings Repor...\n",
       "1203 -0.152540  Photos Vulnerable on Apple Devices : 8:19 p.m....\n",
       "2210 -0.150974  Apple Case Underscores Pitfalls of Doing Busin...\n",
       "782  -0.150000  Apple Buys Intrinsity, a Maker of Fast Chips :...\n",
       "164  -0.141477  Already, Apple Sells Refurbished iPhones : Con..."
      ]
     },
     "execution_count": 36,
     "metadata": {},
     "output_type": "execute_result"
    }
   ],
   "source": [
    "sentiment_df_apple.sort_values(by = 'polarity', ascending = True).head(10)"
   ]
  },
  {
   "cell_type": "code",
   "execution_count": 37,
   "id": "partial-going",
   "metadata": {},
   "outputs": [],
   "source": [
    "sentiment_df_apple = sentiment_df_apple[sentiment_df_apple.polarity != 0]"
   ]
  },
  {
   "cell_type": "code",
   "execution_count": 38,
   "id": "accurate-redhead",
   "metadata": {},
   "outputs": [
    {
     "data": {
      "text/plain": [
       "polarity    0.111278\n",
       "dtype: float64"
      ]
     },
     "execution_count": 38,
     "metadata": {},
     "output_type": "execute_result"
    }
   ],
   "source": [
    "sentiment_df_apple.mean()"
   ]
  },
  {
   "cell_type": "code",
   "execution_count": 39,
   "id": "christian-representation",
   "metadata": {},
   "outputs": [
    {
     "data": {
      "image/png": "[encoded data removed]",
      "text/plain": [
       "<Figure size 576x432 with 1 Axes>"
      ]
     },
     "metadata": {
      "needs_background": "light"
     },
     "output_type": "display_data"
    }
   ],
   "source": [
    "fig, ax = plt.subplots(figsize=(8, 6))\n",
    "\n",
    "# Plot histogram with break at zero\n",
    "sentiment_df_apple.hist(bins=[-1, -0.75, -0.5, -0.25, 0.0, 0.25, 0.5, 0.75, 1],\n",
    "             ax=ax,\n",
    "             color=\"blue\")\n",
    "\n",
    "plt.title(\"Sentiments in the News on Apple\");"
   ]
  },
  {
   "cell_type": "code",
   "execution_count": 40,
   "id": "french-subcommittee",
   "metadata": {},
   "outputs": [],
   "source": [
    "# concat polarity df with apple df on 'news'\n",
    "apple_final = pd.merge(apple, sentiment_df_apple, on='news')"
   ]
  },
  {
   "cell_type": "code",
   "execution_count": 41,
   "id": "willing-friendly",
   "metadata": {},
   "outputs": [],
   "source": [
    "# dropping rows with missing values\n",
    "apple_final.dropna(axis = 0, inplace = True)"
   ]
  },
  {
   "cell_type": "code",
   "execution_count": 42,
   "id": "studied-surfing",
   "metadata": {},
   "outputs": [],
   "source": [
    "# save to csv \n",
    "apple_final.to_csv('data/apple_clean.csv')"
   ]
  },
  {
   "cell_type": "code",
   "execution_count": 43,
   "id": "atomic-muscle",
   "metadata": {},
   "outputs": [],
   "source": [
    "# add polarity to countvectorized dataframe\n",
    "apple_vect['polarity'] = apple_final['polarity']"
   ]
  },
  {
   "cell_type": "code",
   "execution_count": 44,
   "id": "urban-religion",
   "metadata": {},
   "outputs": [],
   "source": [
    "# add y value to countvectorized dataframe\n",
    "apple_vect['up_or_down'] = apple_final['up_or_down']"
   ]
  },
  {
   "cell_type": "code",
   "execution_count": 45,
   "id": "personal-plenty",
   "metadata": {},
   "outputs": [],
   "source": [
    "apple_vect.dropna(axis = 0, inplace = True)"
   ]
  },
  {
   "cell_type": "code",
   "execution_count": 46,
   "id": "aerial-accountability",
   "metadata": {},
   "outputs": [],
   "source": [
    "apple_vect.to_csv('data/apple_vect_clean.csv')"
   ]
  },
  {
   "cell_type": "markdown",
   "id": "southwest-presentation",
   "metadata": {},
   "source": [
    "### Null Model"
   ]
  },
  {
   "cell_type": "code",
   "execution_count": 47,
   "id": "christian-microphone",
   "metadata": {},
   "outputs": [
    {
     "data": {
      "text/plain": [
       "up      0.505837\n",
       "down    0.494163\n",
       "Name: up_or_down, dtype: float64"
      ]
     },
     "execution_count": 47,
     "metadata": {},
     "output_type": "execute_result"
    }
   ],
   "source": [
    "apple_final['up_or_down'].value_counts(normalize=True) # null model is just a little over 50% accurate"
   ]
  },
  {
   "cell_type": "markdown",
   "id": "absolute-printer",
   "metadata": {},
   "source": [
    "### Train Test Split"
   ]
  },
  {
   "cell_type": "code",
   "execution_count": 48,
   "id": "monetary-reducing",
   "metadata": {},
   "outputs": [],
   "source": [
    "X = apple_vect.drop(columns = 'up_or_down')\n",
    "y = apple_vect['up_or_down']"
   ]
  },
  {
   "cell_type": "code",
   "execution_count": 49,
   "id": "bizarre-masters",
   "metadata": {},
   "outputs": [],
   "source": [
    "X_train, X_test, y_train, y_test = train_test_split(X, y, random_state = 22)"
   ]
  },
  {
   "cell_type": "markdown",
   "id": "electoral-consideration",
   "metadata": {},
   "source": [
    "### 1. Logistic Regression"
   ]
  },
  {
   "cell_type": "code",
   "execution_count": 50,
   "id": "missing-accounting",
   "metadata": {},
   "outputs": [],
   "source": [
    "pipe_lr = make_pipeline(StandardScaler(with_mean=False), LogisticRegression())"
   ]
  },
  {
   "cell_type": "code",
   "execution_count": 51,
   "id": "prepared-consideration",
   "metadata": {},
   "outputs": [
    {
     "name": "stderr",
     "output_type": "stream",
     "text": [
      "c:\\users\\anel akiyanova\\anaconda3\\envs\\new\\lib\\site-packages\\sklearn\\linear_model\\_logistic.py:763: ConvergenceWarning: lbfgs failed to converge (status=1):\n",
      "STOP: TOTAL NO. of ITERATIONS REACHED LIMIT.\n",
      "\n",
      "Increase the number of iterations (max_iter) or scale the data as shown in:\n",
      "    https://scikit-learn.org/stable/modules/preprocessing.html\n",
      "Please also refer to the documentation for alternative solver options:\n",
      "    https://scikit-learn.org/stable/modules/linear_model.html#logistic-regression\n",
      "  n_iter_i = _check_optimize_result(\n"
     ]
    },
    {
     "data": {
      "text/plain": [
       "Pipeline(steps=[('standardscaler', StandardScaler(with_mean=False)),\n",
       "                ('logisticregression', LogisticRegression())])"
      ]
     },
     "execution_count": 51,
     "metadata": {},
     "output_type": "execute_result"
    }
   ],
   "source": [
    "pipe_lr.fit(X_train, y_train)"
   ]
  },
  {
   "cell_type": "code",
   "execution_count": 52,
   "id": "charged-princeton",
   "metadata": {},
   "outputs": [
    {
     "data": {
      "text/plain": [
       "0.6735870818915801"
      ]
     },
     "execution_count": 52,
     "metadata": {},
     "output_type": "execute_result"
    }
   ],
   "source": [
    "pipe_lr.score(X_train, y_train) #overfit model"
   ]
  },
  {
   "cell_type": "code",
   "execution_count": 53,
   "id": "suitable-qatar",
   "metadata": {},
   "outputs": [
    {
     "data": {
      "text/plain": [
       "0.5129533678756477"
      ]
     },
     "execution_count": 53,
     "metadata": {},
     "output_type": "execute_result"
    }
   ],
   "source": [
    "pipe_lr.score(X_test, y_test)"
   ]
  },
  {
   "cell_type": "code",
   "execution_count": 76,
   "id": "danish-storage",
   "metadata": {},
   "outputs": [
    {
     "data": {
      "image/png": "[encoded data removed]",
      "text/plain": [
       "<Figure size 432x288 with 2 Axes>"
      ]
     },
     "metadata": {
      "needs_background": "light"
     },
     "output_type": "display_data"
    }
   ],
   "source": [
    "# plot confusion matrix \n",
    "plot_confusion_matrix(pipe_lr, X_test, y_test);"
   ]
  },
  {
   "cell_type": "markdown",
   "id": "aquatic-riding",
   "metadata": {},
   "source": [
    "### 2. CountVectorizer / Naive Bayes only using the news variable"
   ]
  },
  {
   "cell_type": "code",
   "execution_count": 86,
   "id": "nearby-anime",
   "metadata": {},
   "outputs": [],
   "source": [
    "X_news = apple_final['news']\n",
    "y_news = apple_final['up_or_down']"
   ]
  },
  {
   "cell_type": "code",
   "execution_count": 88,
   "id": "disabled-fountain",
   "metadata": {},
   "outputs": [],
   "source": [
    "X_train_news, X_test_news, y_train_news, y_test_news = train_test_split(X_news, y_news)"
   ]
  },
  {
   "cell_type": "code",
   "execution_count": 90,
   "id": "divided-charm",
   "metadata": {},
   "outputs": [],
   "source": [
    "pipe_nb = make_pipeline(CountVectorizer(stop_words = 'english', ngram_range = (1,1)), MultinomialNB())"
   ]
  },
  {
   "cell_type": "code",
   "execution_count": 91,
   "id": "thirty-stream",
   "metadata": {},
   "outputs": [
    {
     "data": {
      "text/plain": [
       "Pipeline(steps=[('countvectorizer', CountVectorizer(stop_words='english')),\n",
       "                ('multinomialnb', MultinomialNB())])"
      ]
     },
     "execution_count": 91,
     "metadata": {},
     "output_type": "execute_result"
    }
   ],
   "source": [
    "pipe_nb.fit(X_train_news, y_train_news)"
   ]
  },
  {
   "cell_type": "code",
   "execution_count": 93,
   "id": "rapid-water",
   "metadata": {},
   "outputs": [
    {
     "data": {
      "text/plain": [
       "0.9786620530565168"
      ]
     },
     "execution_count": 93,
     "metadata": {},
     "output_type": "execute_result"
    }
   ],
   "source": [
    "pipe_nb.score(X_train_news, y_train_news)"
   ]
  },
  {
   "cell_type": "code",
   "execution_count": 94,
   "id": "growing-surge",
   "metadata": {},
   "outputs": [
    {
     "data": {
      "text/plain": [
       "0.47150259067357514"
      ]
     },
     "execution_count": 94,
     "metadata": {},
     "output_type": "execute_result"
    }
   ],
   "source": [
    "pipe_nb.score(X_test_news, y_test_news)"
   ]
  },
  {
   "cell_type": "code",
   "execution_count": 95,
   "id": "perceived-final",
   "metadata": {},
   "outputs": [
    {
     "data": {
      "image/png": "[encoded data removed]",
      "text/plain": [
       "<Figure size 432x288 with 2 Axes>"
      ]
     },
     "metadata": {
      "needs_background": "light"
     },
     "output_type": "display_data"
    }
   ],
   "source": [
    "# plot confusion matrix \n",
    "plot_confusion_matrix(pipe_nb, X_test_news, y_test_news);"
   ]
  },
  {
   "cell_type": "markdown",
   "id": "dried-briefing",
   "metadata": {},
   "source": [
    "### 3. GradientBoosting"
   ]
  },
  {
   "cell_type": "code",
   "execution_count": 57,
   "id": "consolidated-boring",
   "metadata": {},
   "outputs": [],
   "source": [
    "from sklearn.ensemble import GradientBoostingClassifier"
   ]
  },
  {
   "cell_type": "code",
   "execution_count": 58,
   "id": "little-sigma",
   "metadata": {},
   "outputs": [],
   "source": [
    "pipe_boost = make_pipeline(GradientBoostingClassifier())"
   ]
  },
  {
   "cell_type": "code",
   "execution_count": 59,
   "id": "roman-attempt",
   "metadata": {},
   "outputs": [
    {
     "data": {
      "text/plain": [
       "Pipeline(steps=[('gradientboostingclassifier', GradientBoostingClassifier())])"
      ]
     },
     "execution_count": 59,
     "metadata": {},
     "output_type": "execute_result"
    }
   ],
   "source": [
    "pipe_boost.fit(X_train, y_train)"
   ]
  },
  {
   "cell_type": "code",
   "execution_count": 60,
   "id": "random-plaintiff",
   "metadata": {},
   "outputs": [
    {
     "data": {
      "text/plain": [
       "0.6528258362168397"
      ]
     },
     "execution_count": 60,
     "metadata": {},
     "output_type": "execute_result"
    }
   ],
   "source": [
    "pipe_boost.score(X_train, y_train)"
   ]
  },
  {
   "cell_type": "code",
   "execution_count": 61,
   "id": "diagnostic-synthetic",
   "metadata": {},
   "outputs": [
    {
     "data": {
      "text/plain": [
       "0.5164075993091537"
      ]
     },
     "execution_count": 61,
     "metadata": {},
     "output_type": "execute_result"
    }
   ],
   "source": [
    "pipe_boost.score(X_test, y_test)"
   ]
  },
  {
   "cell_type": "code",
   "execution_count": 75,
   "id": "electoral-yugoslavia",
   "metadata": {},
   "outputs": [
    {
     "data": {
      "image/png": "[encoded data removed]",
      "text/plain": [
       "<Figure size 432x288 with 2 Axes>"
      ]
     },
     "metadata": {
      "needs_background": "light"
     },
     "output_type": "display_data"
    }
   ],
   "source": [
    "# plot confusion matrix \n",
    "plot_confusion_matrix(pipe_boost, X_test, y_test);"
   ]
  },
  {
   "cell_type": "markdown",
   "id": "smooth-quarterly",
   "metadata": {},
   "source": [
    "### 4. LR using only news sentiment"
   ]
  },
  {
   "cell_type": "code",
   "execution_count": 62,
   "id": "boxed-vitamin",
   "metadata": {},
   "outputs": [],
   "source": [
    "X2 = apple_final[['polarity']]\n",
    "y2 = apple_final['up_or_down']"
   ]
  },
  {
   "cell_type": "code",
   "execution_count": 63,
   "id": "thermal-turning",
   "metadata": {},
   "outputs": [],
   "source": [
    "X_train2, X_test2, y_train2, y_test2 = train_test_split(X2, y2)"
   ]
  },
  {
   "cell_type": "code",
   "execution_count": 64,
   "id": "scientific-algeria",
   "metadata": {},
   "outputs": [],
   "source": [
    "pipe_lr2 = make_pipeline(StandardScaler(), LogisticRegression())"
   ]
  },
  {
   "cell_type": "code",
   "execution_count": 65,
   "id": "gorgeous-breast",
   "metadata": {},
   "outputs": [
    {
     "data": {
      "text/plain": [
       "Pipeline(steps=[('standardscaler', StandardScaler()),\n",
       "                ('logisticregression', LogisticRegression())])"
      ]
     },
     "execution_count": 65,
     "metadata": {},
     "output_type": "execute_result"
    }
   ],
   "source": [
    "pipe_lr2.fit(X_train2, y_train2)"
   ]
  },
  {
   "cell_type": "code",
   "execution_count": 67,
   "id": "honey-astrology",
   "metadata": {},
   "outputs": [
    {
     "data": {
      "text/plain": [
       "0.5011534025374856"
      ]
     },
     "execution_count": 67,
     "metadata": {},
     "output_type": "execute_result"
    }
   ],
   "source": [
    "pipe_lr2.score(X_train2, y_train2)"
   ]
  },
  {
   "cell_type": "code",
   "execution_count": 68,
   "id": "mexican-cathedral",
   "metadata": {},
   "outputs": [
    {
     "data": {
      "text/plain": [
       "0.538860103626943"
      ]
     },
     "execution_count": 68,
     "metadata": {},
     "output_type": "execute_result"
    }
   ],
   "source": [
    "pipe_lr2.score(X_test2, y_test2)"
   ]
  },
  {
   "cell_type": "code",
   "execution_count": 74,
   "id": "intense-metadata",
   "metadata": {},
   "outputs": [
    {
     "data": {
      "image/png": "[encoded data removed]",
      "text/plain": [
       "<Figure size 432x288 with 2 Axes>"
      ]
     },
     "metadata": {
      "needs_background": "light"
     },
     "output_type": "display_data"
    }
   ],
   "source": [
    "# plot confusion matrix \n",
    "plot_confusion_matrix(pipe_lr2, X_test2, y_test2);"
   ]
  },
  {
   "cell_type": "markdown",
   "id": "right-pride",
   "metadata": {},
   "source": [
    "### 5. SVC using news sentiment"
   ]
  },
  {
   "cell_type": "code",
   "execution_count": 69,
   "id": "charming-cambodia",
   "metadata": {},
   "outputs": [],
   "source": [
    "pipe_svc = make_pipeline(StandardScaler(with_mean = False), SVC())"
   ]
  },
  {
   "cell_type": "code",
   "execution_count": 70,
   "id": "distributed-fountain",
   "metadata": {},
   "outputs": [
    {
     "data": {
      "text/plain": [
       "Pipeline(steps=[('standardscaler', StandardScaler(with_mean=False)),\n",
       "                ('svc', SVC())])"
      ]
     },
     "execution_count": 70,
     "metadata": {},
     "output_type": "execute_result"
    }
   ],
   "source": [
    "pipe_svc.fit(X_train, y_train)"
   ]
  },
  {
   "cell_type": "code",
   "execution_count": 71,
   "id": "clean-polyester",
   "metadata": {},
   "outputs": [
    {
     "data": {
      "text/plain": [
       "0.7381776239907728"
      ]
     },
     "execution_count": 71,
     "metadata": {},
     "output_type": "execute_result"
    }
   ],
   "source": [
    "pipe_svc.score(X_train, y_train)"
   ]
  },
  {
   "cell_type": "code",
   "execution_count": 72,
   "id": "portable-fluid",
   "metadata": {},
   "outputs": [
    {
     "data": {
      "text/plain": [
       "0.5094991364421416"
      ]
     },
     "execution_count": 72,
     "metadata": {},
     "output_type": "execute_result"
    }
   ],
   "source": [
    "pipe_svc.score(X_test, y_test)"
   ]
  },
  {
   "cell_type": "code",
   "execution_count": 73,
   "id": "searching-mattress",
   "metadata": {},
   "outputs": [
    {
     "data": {
      "image/png": "[encoded data removed]",
      "text/plain": [
       "<Figure size 432x288 with 2 Axes>"
      ]
     },
     "metadata": {
      "needs_background": "light"
     },
     "output_type": "display_data"
    }
   ],
   "source": [
    "# plot confusion matrix \n",
    "plot_confusion_matrix(pipe_svc, X_test, y_test);"
   ]
  },
  {
   "cell_type": "markdown",
   "id": "stuck-present",
   "metadata": {},
   "source": [
    "### Conclusion and Recommendations: \n",
    "\n",
    " - News as a stand-alone is not a great predictor of a stock price direction. **Caveat:** subject to the news sample being relevant to the stock.\n",
    " - Add polarity sentiment of news to test if that changes model accuracy"
   ]
  },
  {
   "cell_type": "markdown",
   "id": "killing-theory",
   "metadata": {},
   "source": [
    "### 6. CountVectorizer / Neural Network "
   ]
  },
  {
   "cell_type": "code",
   "execution_count": null,
   "id": "extended-cradle",
   "metadata": {},
   "outputs": [],
   "source": [
    "from keras.utils import to_categorical"
   ]
  },
  {
   "cell_type": "code",
   "execution_count": null,
   "id": "female-surveillance",
   "metadata": {},
   "outputs": [],
   "source": [
    "y_cat = tf.keras.utils.to_categorical(y, num_classes=2)"
   ]
  },
  {
   "cell_type": "code",
   "execution_count": null,
   "id": "abroad-trader",
   "metadata": {},
   "outputs": [],
   "source": [
    "cvect_nn = CountVectorizer(stop_words = 'english', ngram_range = (2,2), max_features = 1000)"
   ]
  },
  {
   "cell_type": "code",
   "execution_count": null,
   "id": "emerging-screen",
   "metadata": {},
   "outputs": [],
   "source": [
    "X_train_vect = cvect_nn.fit_transform(X_train).toarray()"
   ]
  },
  {
   "cell_type": "code",
   "execution_count": null,
   "id": "initial-guard",
   "metadata": {},
   "outputs": [],
   "source": [
    "X_test_vect = cvect_nn.transform(X_test).toarray()"
   ]
  },
  {
   "cell_type": "code",
   "execution_count": null,
   "id": "strong-shark",
   "metadata": {},
   "outputs": [],
   "source": [
    "model = Sequential()\n",
    "model.add(Input(501, ))\n",
    "model.add(BatchNormalization())\n",
    "model.add(Dense(30, activation = 'relu'))\n",
    "model.add(Dense(12, activation = 'relu'))\n",
    "model.add(Dense(20, activation = 'relu'))\n",
    "model.add(Dense(1, activation = 'sigmoid'))"
   ]
  },
  {
   "cell_type": "code",
   "execution_count": null,
   "id": "competitive-colony",
   "metadata": {},
   "outputs": [],
   "source": [
    "model.compile(loss = 'binary_crossentropy', optimizer = 'adam', metrics = ['accuracy'])"
   ]
  },
  {
   "cell_type": "code",
   "execution_count": null,
   "id": "characteristic-veteran",
   "metadata": {},
   "outputs": [],
   "source": [
    "early_stop = EarlyStopping(patience = 5)"
   ]
  },
  {
   "cell_type": "code",
   "execution_count": null,
   "id": "christian-essex",
   "metadata": {},
   "outputs": [],
   "source": [
    "history = model.fit(\n",
    "    X_train,\n",
    "    y_train,\n",
    "    validation_data=(X_test, y_test),\n",
    "    callbacks=[early_stop],\n",
    "    batch_size=50,\n",
    "    epochs=50\n",
    ")"
   ]
  },
  {
   "cell_type": "markdown",
   "id": "universal-timber",
   "metadata": {},
   "source": [
    "### 7. Neural Network using polarity"
   ]
  },
  {
   "cell_type": "code",
   "execution_count": null,
   "id": "bibliographic-attention",
   "metadata": {},
   "outputs": [],
   "source": [
    "model = Sequential()\n",
    "model.add(Input(1, ))\n",
    "model.add(BatchNormalization())\n",
    "model.add(Dense(30, activation = 'relu'))\n",
    "model.add(Dense(20, activation = 'relu'))\n",
    "model.add(Dense(1, activation = 'sigmoid'))"
   ]
  },
  {
   "cell_type": "code",
   "execution_count": null,
   "id": "wireless-drilling",
   "metadata": {},
   "outputs": [],
   "source": [
    "model.compile(loss = 'bce', optimizer = 'adam', metrics = ['acc'])"
   ]
  },
  {
   "cell_type": "code",
   "execution_count": null,
   "id": "clean-blast",
   "metadata": {},
   "outputs": [],
   "source": [
    "history = model.fit(X_train, y_train, validation_data = (X_test, y_test),\n",
    "                   epochs = 20)"
   ]
  }
 ],
 "metadata": {
  "kernelspec": {
   "display_name": "Python 3",
   "language": "python",
   "name": "python3"
  },
  "language_info": {
   "codemirror_mode": {
    "name": "ipython",
    "version": 3
   },
   "file_extension": ".py",
   "mimetype": "text/x-python",
   "name": "python",
   "nbconvert_exporter": "python",
   "pygments_lexer": "ipython3",
   "version": "3.8.5"
  }
 },
 "nbformat": 4,
 "nbformat_minor": 5
}
